{
 "cells": [
  {
   "cell_type": "code",
   "execution_count": 257,
   "metadata": {
    "collapsed": true
   },
   "outputs": [],
   "source": [
    "import pandas as pd\n",
    "import numpy as np\n",
    "from sklearn.linear_model import SGDClassifier\n",
    "from sklearn.linear_model import LogisticRegression\n",
    "from sklearn.cross_validation import train_test_split\n",
    "from sklearn import metrics\n",
    "from sklearn.cross_validation import cross_val_score\n",
    "import matplotlib.pyplot as plt"
   ]
  },
  {
   "cell_type": "code",
   "execution_count": 258,
   "metadata": {
    "collapsed": false
   },
   "outputs": [],
   "source": [
    "df = pd.read_csv('http://archive.ics.uci.edu/ml/machine-learning-databases/wine-quality/winequality-white.csv', sep = ';')"
   ]
  },
  {
   "cell_type": "code",
   "execution_count": 259,
   "metadata": {
    "collapsed": false
   },
   "outputs": [
    {
     "data": {
      "text/html": [
       "<div style=\"max-height:1000px;max-width:1500px;overflow:auto;\">\n",
       "<table border=\"1\" class=\"dataframe\">\n",
       "  <thead>\n",
       "    <tr style=\"text-align: right;\">\n",
       "      <th></th>\n",
       "      <th>fixed acidity</th>\n",
       "      <th>volatile acidity</th>\n",
       "      <th>citric acid</th>\n",
       "      <th>residual sugar</th>\n",
       "      <th>chlorides</th>\n",
       "      <th>free sulfur dioxide</th>\n",
       "      <th>total sulfur dioxide</th>\n",
       "      <th>density</th>\n",
       "      <th>pH</th>\n",
       "      <th>sulphates</th>\n",
       "      <th>alcohol</th>\n",
       "      <th>quality</th>\n",
       "    </tr>\n",
       "  </thead>\n",
       "  <tbody>\n",
       "    <tr>\n",
       "      <th>0</th>\n",
       "      <td> 7.0</td>\n",
       "      <td> 0.27</td>\n",
       "      <td> 0.36</td>\n",
       "      <td> 20.7</td>\n",
       "      <td> 0.045</td>\n",
       "      <td> 45</td>\n",
       "      <td> 170</td>\n",
       "      <td> 1.0010</td>\n",
       "      <td> 3.00</td>\n",
       "      <td> 0.45</td>\n",
       "      <td>  8.8</td>\n",
       "      <td> 6</td>\n",
       "    </tr>\n",
       "    <tr>\n",
       "      <th>1</th>\n",
       "      <td> 6.3</td>\n",
       "      <td> 0.30</td>\n",
       "      <td> 0.34</td>\n",
       "      <td>  1.6</td>\n",
       "      <td> 0.049</td>\n",
       "      <td> 14</td>\n",
       "      <td> 132</td>\n",
       "      <td> 0.9940</td>\n",
       "      <td> 3.30</td>\n",
       "      <td> 0.49</td>\n",
       "      <td>  9.5</td>\n",
       "      <td> 6</td>\n",
       "    </tr>\n",
       "    <tr>\n",
       "      <th>2</th>\n",
       "      <td> 8.1</td>\n",
       "      <td> 0.28</td>\n",
       "      <td> 0.40</td>\n",
       "      <td>  6.9</td>\n",
       "      <td> 0.050</td>\n",
       "      <td> 30</td>\n",
       "      <td>  97</td>\n",
       "      <td> 0.9951</td>\n",
       "      <td> 3.26</td>\n",
       "      <td> 0.44</td>\n",
       "      <td> 10.1</td>\n",
       "      <td> 6</td>\n",
       "    </tr>\n",
       "    <tr>\n",
       "      <th>3</th>\n",
       "      <td> 7.2</td>\n",
       "      <td> 0.23</td>\n",
       "      <td> 0.32</td>\n",
       "      <td>  8.5</td>\n",
       "      <td> 0.058</td>\n",
       "      <td> 47</td>\n",
       "      <td> 186</td>\n",
       "      <td> 0.9956</td>\n",
       "      <td> 3.19</td>\n",
       "      <td> 0.40</td>\n",
       "      <td>  9.9</td>\n",
       "      <td> 6</td>\n",
       "    </tr>\n",
       "    <tr>\n",
       "      <th>4</th>\n",
       "      <td> 7.2</td>\n",
       "      <td> 0.23</td>\n",
       "      <td> 0.32</td>\n",
       "      <td>  8.5</td>\n",
       "      <td> 0.058</td>\n",
       "      <td> 47</td>\n",
       "      <td> 186</td>\n",
       "      <td> 0.9956</td>\n",
       "      <td> 3.19</td>\n",
       "      <td> 0.40</td>\n",
       "      <td>  9.9</td>\n",
       "      <td> 6</td>\n",
       "    </tr>\n",
       "  </tbody>\n",
       "</table>\n",
       "</div>"
      ],
      "text/plain": [
       "   fixed acidity  volatile acidity  citric acid  residual sugar  chlorides  \\\n",
       "0            7.0              0.27         0.36            20.7      0.045   \n",
       "1            6.3              0.30         0.34             1.6      0.049   \n",
       "2            8.1              0.28         0.40             6.9      0.050   \n",
       "3            7.2              0.23         0.32             8.5      0.058   \n",
       "4            7.2              0.23         0.32             8.5      0.058   \n",
       "\n",
       "   free sulfur dioxide  total sulfur dioxide  density    pH  sulphates  \\\n",
       "0                   45                   170   1.0010  3.00       0.45   \n",
       "1                   14                   132   0.9940  3.30       0.49   \n",
       "2                   30                    97   0.9951  3.26       0.44   \n",
       "3                   47                   186   0.9956  3.19       0.40   \n",
       "4                   47                   186   0.9956  3.19       0.40   \n",
       "\n",
       "   alcohol  quality  \n",
       "0      8.8        6  \n",
       "1      9.5        6  \n",
       "2     10.1        6  \n",
       "3      9.9        6  \n",
       "4      9.9        6  "
      ]
     },
     "execution_count": 259,
     "metadata": {},
     "output_type": "execute_result"
    }
   ],
   "source": [
    "df.head(5)"
   ]
  },
  {
   "cell_type": "code",
   "execution_count": 260,
   "metadata": {
    "collapsed": false
   },
   "outputs": [],
   "source": [
    "df['good'] = (df.quality > 7).astype(int)"
   ]
  },
  {
   "cell_type": "code",
   "execution_count": 261,
   "metadata": {
    "collapsed": false
   },
   "outputs": [
    {
     "data": {
      "text/html": [
       "<div style=\"max-height:1000px;max-width:1500px;overflow:auto;\">\n",
       "<table border=\"1\" class=\"dataframe\">\n",
       "  <thead>\n",
       "    <tr style=\"text-align: right;\">\n",
       "      <th></th>\n",
       "      <th>fixed acidity</th>\n",
       "      <th>volatile acidity</th>\n",
       "      <th>citric acid</th>\n",
       "      <th>residual sugar</th>\n",
       "      <th>chlorides</th>\n",
       "      <th>free sulfur dioxide</th>\n",
       "      <th>total sulfur dioxide</th>\n",
       "      <th>density</th>\n",
       "      <th>pH</th>\n",
       "      <th>sulphates</th>\n",
       "      <th>alcohol</th>\n",
       "      <th>quality</th>\n",
       "      <th>good</th>\n",
       "    </tr>\n",
       "  </thead>\n",
       "  <tbody>\n",
       "    <tr>\n",
       "      <th>0</th>\n",
       "      <td> 7.0</td>\n",
       "      <td> 0.27</td>\n",
       "      <td> 0.36</td>\n",
       "      <td> 20.7</td>\n",
       "      <td> 0.045</td>\n",
       "      <td> 45</td>\n",
       "      <td> 170</td>\n",
       "      <td> 1.0010</td>\n",
       "      <td> 3.00</td>\n",
       "      <td> 0.45</td>\n",
       "      <td>  8.8</td>\n",
       "      <td> 6</td>\n",
       "      <td> 0</td>\n",
       "    </tr>\n",
       "    <tr>\n",
       "      <th>1</th>\n",
       "      <td> 6.3</td>\n",
       "      <td> 0.30</td>\n",
       "      <td> 0.34</td>\n",
       "      <td>  1.6</td>\n",
       "      <td> 0.049</td>\n",
       "      <td> 14</td>\n",
       "      <td> 132</td>\n",
       "      <td> 0.9940</td>\n",
       "      <td> 3.30</td>\n",
       "      <td> 0.49</td>\n",
       "      <td>  9.5</td>\n",
       "      <td> 6</td>\n",
       "      <td> 0</td>\n",
       "    </tr>\n",
       "    <tr>\n",
       "      <th>2</th>\n",
       "      <td> 8.1</td>\n",
       "      <td> 0.28</td>\n",
       "      <td> 0.40</td>\n",
       "      <td>  6.9</td>\n",
       "      <td> 0.050</td>\n",
       "      <td> 30</td>\n",
       "      <td>  97</td>\n",
       "      <td> 0.9951</td>\n",
       "      <td> 3.26</td>\n",
       "      <td> 0.44</td>\n",
       "      <td> 10.1</td>\n",
       "      <td> 6</td>\n",
       "      <td> 0</td>\n",
       "    </tr>\n",
       "    <tr>\n",
       "      <th>3</th>\n",
       "      <td> 7.2</td>\n",
       "      <td> 0.23</td>\n",
       "      <td> 0.32</td>\n",
       "      <td>  8.5</td>\n",
       "      <td> 0.058</td>\n",
       "      <td> 47</td>\n",
       "      <td> 186</td>\n",
       "      <td> 0.9956</td>\n",
       "      <td> 3.19</td>\n",
       "      <td> 0.40</td>\n",
       "      <td>  9.9</td>\n",
       "      <td> 6</td>\n",
       "      <td> 0</td>\n",
       "    </tr>\n",
       "    <tr>\n",
       "      <th>4</th>\n",
       "      <td> 7.2</td>\n",
       "      <td> 0.23</td>\n",
       "      <td> 0.32</td>\n",
       "      <td>  8.5</td>\n",
       "      <td> 0.058</td>\n",
       "      <td> 47</td>\n",
       "      <td> 186</td>\n",
       "      <td> 0.9956</td>\n",
       "      <td> 3.19</td>\n",
       "      <td> 0.40</td>\n",
       "      <td>  9.9</td>\n",
       "      <td> 6</td>\n",
       "      <td> 0</td>\n",
       "    </tr>\n",
       "    <tr>\n",
       "      <th>5</th>\n",
       "      <td> 8.1</td>\n",
       "      <td> 0.28</td>\n",
       "      <td> 0.40</td>\n",
       "      <td>  6.9</td>\n",
       "      <td> 0.050</td>\n",
       "      <td> 30</td>\n",
       "      <td>  97</td>\n",
       "      <td> 0.9951</td>\n",
       "      <td> 3.26</td>\n",
       "      <td> 0.44</td>\n",
       "      <td> 10.1</td>\n",
       "      <td> 6</td>\n",
       "      <td> 0</td>\n",
       "    </tr>\n",
       "  </tbody>\n",
       "</table>\n",
       "</div>"
      ],
      "text/plain": [
       "   fixed acidity  volatile acidity  citric acid  residual sugar  chlorides  \\\n",
       "0            7.0              0.27         0.36            20.7      0.045   \n",
       "1            6.3              0.30         0.34             1.6      0.049   \n",
       "2            8.1              0.28         0.40             6.9      0.050   \n",
       "3            7.2              0.23         0.32             8.5      0.058   \n",
       "4            7.2              0.23         0.32             8.5      0.058   \n",
       "5            8.1              0.28         0.40             6.9      0.050   \n",
       "\n",
       "   free sulfur dioxide  total sulfur dioxide  density    pH  sulphates  \\\n",
       "0                   45                   170   1.0010  3.00       0.45   \n",
       "1                   14                   132   0.9940  3.30       0.49   \n",
       "2                   30                    97   0.9951  3.26       0.44   \n",
       "3                   47                   186   0.9956  3.19       0.40   \n",
       "4                   47                   186   0.9956  3.19       0.40   \n",
       "5                   30                    97   0.9951  3.26       0.44   \n",
       "\n",
       "   alcohol  quality  good  \n",
       "0      8.8        6     0  \n",
       "1      9.5        6     0  \n",
       "2     10.1        6     0  \n",
       "3      9.9        6     0  \n",
       "4      9.9        6     0  \n",
       "5     10.1        6     0  "
      ]
     },
     "execution_count": 261,
     "metadata": {},
     "output_type": "execute_result"
    }
   ],
   "source": [
    "df.head(6)"
   ]
  },
  {
   "cell_type": "code",
   "execution_count": 262,
   "metadata": {
    "collapsed": false
   },
   "outputs": [
    {
     "data": {
      "text/html": [
       "<div style=\"max-height:1000px;max-width:1500px;overflow:auto;\">\n",
       "<table border=\"1\" class=\"dataframe\">\n",
       "  <thead>\n",
       "    <tr style=\"text-align: right;\">\n",
       "      <th></th>\n",
       "      <th>fixed acidity</th>\n",
       "      <th>volatile acidity</th>\n",
       "      <th>citric acid</th>\n",
       "      <th>residual sugar</th>\n",
       "      <th>chlorides</th>\n",
       "      <th>free sulfur dioxide</th>\n",
       "      <th>total sulfur dioxide</th>\n",
       "      <th>density</th>\n",
       "      <th>pH</th>\n",
       "      <th>sulphates</th>\n",
       "      <th>alcohol</th>\n",
       "      <th>quality</th>\n",
       "    </tr>\n",
       "    <tr>\n",
       "      <th>good</th>\n",
       "      <th></th>\n",
       "      <th></th>\n",
       "      <th></th>\n",
       "      <th></th>\n",
       "      <th></th>\n",
       "      <th></th>\n",
       "      <th></th>\n",
       "      <th></th>\n",
       "      <th></th>\n",
       "      <th></th>\n",
       "      <th></th>\n",
       "      <th></th>\n",
       "    </tr>\n",
       "  </thead>\n",
       "  <tbody>\n",
       "    <tr>\n",
       "      <th>0</th>\n",
       "      <td> 6.861520</td>\n",
       "      <td> 0.278251</td>\n",
       "      <td> 0.334421</td>\n",
       "      <td> 6.420528</td>\n",
       "      <td> 0.046068</td>\n",
       "      <td> 35.257736</td>\n",
       "      <td> 138.836689</td>\n",
       "      <td> 0.994097</td>\n",
       "      <td> 3.187011</td>\n",
       "      <td> 0.490006</td>\n",
       "      <td> 10.470894</td>\n",
       "      <td> 5.795888</td>\n",
       "    </tr>\n",
       "    <tr>\n",
       "      <th>1</th>\n",
       "      <td> 6.678333</td>\n",
       "      <td> 0.277972</td>\n",
       "      <td> 0.328167</td>\n",
       "      <td> 5.628333</td>\n",
       "      <td> 0.038011</td>\n",
       "      <td> 36.627778</td>\n",
       "      <td> 125.883333</td>\n",
       "      <td> 0.992214</td>\n",
       "      <td> 3.221167</td>\n",
       "      <td> 0.485667</td>\n",
       "      <td> 11.651111</td>\n",
       "      <td> 8.027778</td>\n",
       "    </tr>\n",
       "  </tbody>\n",
       "</table>\n",
       "</div>"
      ],
      "text/plain": [
       "      fixed acidity  volatile acidity  citric acid  residual sugar  chlorides  \\\n",
       "good                                                                            \n",
       "0          6.861520          0.278251     0.334421        6.420528   0.046068   \n",
       "1          6.678333          0.277972     0.328167        5.628333   0.038011   \n",
       "\n",
       "      free sulfur dioxide  total sulfur dioxide   density        pH  \\\n",
       "good                                                                  \n",
       "0               35.257736            138.836689  0.994097  3.187011   \n",
       "1               36.627778            125.883333  0.992214  3.221167   \n",
       "\n",
       "      sulphates    alcohol   quality  \n",
       "good                                  \n",
       "0      0.490006  10.470894  5.795888  \n",
       "1      0.485667  11.651111  8.027778  "
      ]
     },
     "execution_count": 262,
     "metadata": {},
     "output_type": "execute_result"
    }
   ],
   "source": [
    "df.groupby('good').mean()"
   ]
  },
  {
   "cell_type": "code",
   "execution_count": 263,
   "metadata": {
    "collapsed": false
   },
   "outputs": [
    {
     "name": "stdout",
     "output_type": "stream",
     "text": [
      "Populating the interactive namespace from numpy and matplotlib\n"
     ]
    },
    {
     "name": "stderr",
     "output_type": "stream",
     "text": [
      "WARNING: pylab import has clobbered these variables: ['clf']\n",
      "`%matplotlib` prevents importing * from pylab and numpy\n"
     ]
    },
    {
     "data": {
      "text/plain": [
       "<matplotlib.text.Text at 0x10f1f9110>"
      ]
     },
     "execution_count": 263,
     "metadata": {},
     "output_type": "execute_result"
    },
    {
     "data": {
      "image/png": "[encoded data removed]",
      "text/plain": [
       "<matplotlib.figure.Figure at 0x10bf058d0>"
      ]
     },
     "metadata": {},
     "output_type": "display_data"
    }
   ],
   "source": [
    "%pylab inline\n",
    "\n",
    "plt.hist(df.quality)\n",
    "plt.title(\"Distribution of Wine Quality\")\n",
    "plt.xlabel(\"Wine Quality\")\n",
    "plt.ylabel(\"Count of Wines\")"
   ]
  },
  {
   "cell_type": "code",
   "execution_count": 264,
   "metadata": {
    "collapsed": false
   },
   "outputs": [
    {
     "data": {
      "text/html": [
       "<div style=\"max-height:1000px;max-width:1500px;overflow:auto;\">\n",
       "<table border=\"1\" class=\"dataframe\">\n",
       "  <thead>\n",
       "    <tr style=\"text-align: right;\">\n",
       "      <th></th>\n",
       "      <th>fixed acidity</th>\n",
       "      <th>volatile acidity</th>\n",
       "      <th>citric acid</th>\n",
       "      <th>residual sugar</th>\n",
       "      <th>chlorides</th>\n",
       "      <th>free sulfur dioxide</th>\n",
       "      <th>total sulfur dioxide</th>\n",
       "      <th>density</th>\n",
       "      <th>pH</th>\n",
       "      <th>sulphates</th>\n",
       "      <th>alcohol</th>\n",
       "      <th>good</th>\n",
       "    </tr>\n",
       "    <tr>\n",
       "      <th>quality</th>\n",
       "      <th></th>\n",
       "      <th></th>\n",
       "      <th></th>\n",
       "      <th></th>\n",
       "      <th></th>\n",
       "      <th></th>\n",
       "      <th></th>\n",
       "      <th></th>\n",
       "      <th></th>\n",
       "      <th></th>\n",
       "      <th></th>\n",
       "      <th></th>\n",
       "    </tr>\n",
       "  </thead>\n",
       "  <tbody>\n",
       "    <tr>\n",
       "      <th>3</th>\n",
       "      <td> 7.600000</td>\n",
       "      <td> 0.333250</td>\n",
       "      <td> 0.336000</td>\n",
       "      <td> 6.392500</td>\n",
       "      <td> 0.054300</td>\n",
       "      <td> 53.325000</td>\n",
       "      <td> 170.600000</td>\n",
       "      <td> 0.994884</td>\n",
       "      <td> 3.187500</td>\n",
       "      <td> 0.474500</td>\n",
       "      <td> 10.345000</td>\n",
       "      <td> 0</td>\n",
       "    </tr>\n",
       "    <tr>\n",
       "      <th>4</th>\n",
       "      <td> 7.129448</td>\n",
       "      <td> 0.381227</td>\n",
       "      <td> 0.304233</td>\n",
       "      <td> 4.628221</td>\n",
       "      <td> 0.050098</td>\n",
       "      <td> 23.358896</td>\n",
       "      <td> 125.279141</td>\n",
       "      <td> 0.994277</td>\n",
       "      <td> 3.182883</td>\n",
       "      <td> 0.476135</td>\n",
       "      <td> 10.152454</td>\n",
       "      <td> 0</td>\n",
       "    </tr>\n",
       "    <tr>\n",
       "      <th>5</th>\n",
       "      <td> 6.933974</td>\n",
       "      <td> 0.302011</td>\n",
       "      <td> 0.337653</td>\n",
       "      <td> 7.334969</td>\n",
       "      <td> 0.051546</td>\n",
       "      <td> 36.432052</td>\n",
       "      <td> 150.904598</td>\n",
       "      <td> 0.995263</td>\n",
       "      <td> 3.168833</td>\n",
       "      <td> 0.482203</td>\n",
       "      <td>  9.808840</td>\n",
       "      <td> 0</td>\n",
       "    </tr>\n",
       "    <tr>\n",
       "      <th>6</th>\n",
       "      <td> 6.837671</td>\n",
       "      <td> 0.260564</td>\n",
       "      <td> 0.338025</td>\n",
       "      <td> 6.441606</td>\n",
       "      <td> 0.045217</td>\n",
       "      <td> 35.650591</td>\n",
       "      <td> 137.047316</td>\n",
       "      <td> 0.993961</td>\n",
       "      <td> 3.188599</td>\n",
       "      <td> 0.491106</td>\n",
       "      <td> 10.575372</td>\n",
       "      <td> 0</td>\n",
       "    </tr>\n",
       "    <tr>\n",
       "      <th>7</th>\n",
       "      <td> 6.734716</td>\n",
       "      <td> 0.262767</td>\n",
       "      <td> 0.325625</td>\n",
       "      <td> 5.186477</td>\n",
       "      <td> 0.038191</td>\n",
       "      <td> 34.125568</td>\n",
       "      <td> 125.114773</td>\n",
       "      <td> 0.992452</td>\n",
       "      <td> 3.213898</td>\n",
       "      <td> 0.503102</td>\n",
       "      <td> 11.367936</td>\n",
       "      <td> 0</td>\n",
       "    </tr>\n",
       "    <tr>\n",
       "      <th>8</th>\n",
       "      <td> 6.657143</td>\n",
       "      <td> 0.277400</td>\n",
       "      <td> 0.326514</td>\n",
       "      <td> 5.671429</td>\n",
       "      <td> 0.038314</td>\n",
       "      <td> 36.720000</td>\n",
       "      <td> 126.165714</td>\n",
       "      <td> 0.992236</td>\n",
       "      <td> 3.218686</td>\n",
       "      <td> 0.486229</td>\n",
       "      <td> 11.636000</td>\n",
       "      <td> 1</td>\n",
       "    </tr>\n",
       "    <tr>\n",
       "      <th>9</th>\n",
       "      <td> 7.420000</td>\n",
       "      <td> 0.298000</td>\n",
       "      <td> 0.386000</td>\n",
       "      <td> 4.120000</td>\n",
       "      <td> 0.027400</td>\n",
       "      <td> 33.400000</td>\n",
       "      <td> 116.000000</td>\n",
       "      <td> 0.991460</td>\n",
       "      <td> 3.308000</td>\n",
       "      <td> 0.466000</td>\n",
       "      <td> 12.180000</td>\n",
       "      <td> 1</td>\n",
       "    </tr>\n",
       "  </tbody>\n",
       "</table>\n",
       "</div>"
      ],
      "text/plain": [
       "         fixed acidity  volatile acidity  citric acid  residual sugar  \\\n",
       "quality                                                                 \n",
       "3             7.600000          0.333250     0.336000        6.392500   \n",
       "4             7.129448          0.381227     0.304233        4.628221   \n",
       "5             6.933974          0.302011     0.337653        7.334969   \n",
       "6             6.837671          0.260564     0.338025        6.441606   \n",
       "7             6.734716          0.262767     0.325625        5.186477   \n",
       "8             6.657143          0.277400     0.326514        5.671429   \n",
       "9             7.420000          0.298000     0.386000        4.120000   \n",
       "\n",
       "         chlorides  free sulfur dioxide  total sulfur dioxide   density  \\\n",
       "quality                                                                   \n",
       "3         0.054300            53.325000            170.600000  0.994884   \n",
       "4         0.050098            23.358896            125.279141  0.994277   \n",
       "5         0.051546            36.432052            150.904598  0.995263   \n",
       "6         0.045217            35.650591            137.047316  0.993961   \n",
       "7         0.038191            34.125568            125.114773  0.992452   \n",
       "8         0.038314            36.720000            126.165714  0.992236   \n",
       "9         0.027400            33.400000            116.000000  0.991460   \n",
       "\n",
       "               pH  sulphates    alcohol  good  \n",
       "quality                                        \n",
       "3        3.187500   0.474500  10.345000     0  \n",
       "4        3.182883   0.476135  10.152454     0  \n",
       "5        3.168833   0.482203   9.808840     0  \n",
       "6        3.188599   0.491106  10.575372     0  \n",
       "7        3.213898   0.503102  11.367936     0  \n",
       "8        3.218686   0.486229  11.636000     1  \n",
       "9        3.308000   0.466000  12.180000     1  "
      ]
     },
     "execution_count": 264,
     "metadata": {},
     "output_type": "execute_result"
    }
   ],
   "source": [
    "df.groupby('quality').mean()"
   ]
  },
  {
   "cell_type": "code",
   "execution_count": 265,
   "metadata": {
    "collapsed": false
   },
   "outputs": [
    {
     "data": {
      "image/png": "[encoded data removed]",
      "text/plain": [
       "<matplotlib.figure.Figure at 0x10f225250>"
      ]
     },
     "metadata": {},
     "output_type": "display_data"
    }
   ],
   "source": [
    "cov_mat = df.corr(method='pearson')\n",
    " \n",
    "fig = plt.figure().add_subplot(111)\n",
    " \n",
    "plt.pcolor(cov_mat)\n",
    "plt.colorbar()\n",
    "fig.set_xticklabels(df.columns)\n",
    "fig.set_yticklabels(df.columns)\n",
    "plt.show()"
   ]
  },
  {
   "cell_type": "code",
   "execution_count": 266,
   "metadata": {
    "collapsed": false
   },
   "outputs": [],
   "source": [
    "#cols_to_keep = ['fixed acidity', 'alcohol','residual sugar','free sulfur dioxide','total sulfur dioxide','good']\n",
    "#data = df[cols_to_keep]\n",
    "################\n",
    "data = df"
   ]
  },
  {
   "cell_type": "code",
   "execution_count": 267,
   "metadata": {
    "collapsed": false
   },
   "outputs": [
    {
     "data": {
      "text/html": [
       "<div style=\"max-height:1000px;max-width:1500px;overflow:auto;\">\n",
       "<table border=\"1\" class=\"dataframe\">\n",
       "  <thead>\n",
       "    <tr style=\"text-align: right;\">\n",
       "      <th></th>\n",
       "      <th>fixed acidity</th>\n",
       "      <th>volatile acidity</th>\n",
       "      <th>citric acid</th>\n",
       "      <th>residual sugar</th>\n",
       "      <th>chlorides</th>\n",
       "      <th>free sulfur dioxide</th>\n",
       "      <th>total sulfur dioxide</th>\n",
       "      <th>density</th>\n",
       "      <th>pH</th>\n",
       "      <th>sulphates</th>\n",
       "      <th>alcohol</th>\n",
       "      <th>quality</th>\n",
       "      <th>good</th>\n",
       "    </tr>\n",
       "  </thead>\n",
       "  <tbody>\n",
       "    <tr>\n",
       "      <th>0</th>\n",
       "      <td> 7.0</td>\n",
       "      <td> 0.27</td>\n",
       "      <td> 0.36</td>\n",
       "      <td> 20.7</td>\n",
       "      <td> 0.045</td>\n",
       "      <td> 45</td>\n",
       "      <td> 170</td>\n",
       "      <td> 1.0010</td>\n",
       "      <td> 3.00</td>\n",
       "      <td> 0.45</td>\n",
       "      <td>  8.8</td>\n",
       "      <td> 6</td>\n",
       "      <td> 0</td>\n",
       "    </tr>\n",
       "    <tr>\n",
       "      <th>1</th>\n",
       "      <td> 6.3</td>\n",
       "      <td> 0.30</td>\n",
       "      <td> 0.34</td>\n",
       "      <td>  1.6</td>\n",
       "      <td> 0.049</td>\n",
       "      <td> 14</td>\n",
       "      <td> 132</td>\n",
       "      <td> 0.9940</td>\n",
       "      <td> 3.30</td>\n",
       "      <td> 0.49</td>\n",
       "      <td>  9.5</td>\n",
       "      <td> 6</td>\n",
       "      <td> 0</td>\n",
       "    </tr>\n",
       "    <tr>\n",
       "      <th>2</th>\n",
       "      <td> 8.1</td>\n",
       "      <td> 0.28</td>\n",
       "      <td> 0.40</td>\n",
       "      <td>  6.9</td>\n",
       "      <td> 0.050</td>\n",
       "      <td> 30</td>\n",
       "      <td>  97</td>\n",
       "      <td> 0.9951</td>\n",
       "      <td> 3.26</td>\n",
       "      <td> 0.44</td>\n",
       "      <td> 10.1</td>\n",
       "      <td> 6</td>\n",
       "      <td> 0</td>\n",
       "    </tr>\n",
       "    <tr>\n",
       "      <th>3</th>\n",
       "      <td> 7.2</td>\n",
       "      <td> 0.23</td>\n",
       "      <td> 0.32</td>\n",
       "      <td>  8.5</td>\n",
       "      <td> 0.058</td>\n",
       "      <td> 47</td>\n",
       "      <td> 186</td>\n",
       "      <td> 0.9956</td>\n",
       "      <td> 3.19</td>\n",
       "      <td> 0.40</td>\n",
       "      <td>  9.9</td>\n",
       "      <td> 6</td>\n",
       "      <td> 0</td>\n",
       "    </tr>\n",
       "    <tr>\n",
       "      <th>4</th>\n",
       "      <td> 7.2</td>\n",
       "      <td> 0.23</td>\n",
       "      <td> 0.32</td>\n",
       "      <td>  8.5</td>\n",
       "      <td> 0.058</td>\n",
       "      <td> 47</td>\n",
       "      <td> 186</td>\n",
       "      <td> 0.9956</td>\n",
       "      <td> 3.19</td>\n",
       "      <td> 0.40</td>\n",
       "      <td>  9.9</td>\n",
       "      <td> 6</td>\n",
       "      <td> 0</td>\n",
       "    </tr>\n",
       "  </tbody>\n",
       "</table>\n",
       "</div>"
      ],
      "text/plain": [
       "   fixed acidity  volatile acidity  citric acid  residual sugar  chlorides  \\\n",
       "0            7.0              0.27         0.36            20.7      0.045   \n",
       "1            6.3              0.30         0.34             1.6      0.049   \n",
       "2            8.1              0.28         0.40             6.9      0.050   \n",
       "3            7.2              0.23         0.32             8.5      0.058   \n",
       "4            7.2              0.23         0.32             8.5      0.058   \n",
       "\n",
       "   free sulfur dioxide  total sulfur dioxide  density    pH  sulphates  \\\n",
       "0                   45                   170   1.0010  3.00       0.45   \n",
       "1                   14                   132   0.9940  3.30       0.49   \n",
       "2                   30                    97   0.9951  3.26       0.44   \n",
       "3                   47                   186   0.9956  3.19       0.40   \n",
       "4                   47                   186   0.9956  3.19       0.40   \n",
       "\n",
       "   alcohol  quality  good  \n",
       "0      8.8        6     0  \n",
       "1      9.5        6     0  \n",
       "2     10.1        6     0  \n",
       "3      9.9        6     0  \n",
       "4      9.9        6     0  "
      ]
     },
     "execution_count": 267,
     "metadata": {},
     "output_type": "execute_result"
    }
   ],
   "source": [
    "data.head(5)\n"
   ]
  },
  {
   "cell_type": "code",
   "execution_count": 268,
   "metadata": {
    "collapsed": false
   },
   "outputs": [],
   "source": [
    "#msk = np.random.rand(len(data)) < 0.8\n",
    "#train = data[msk]\n",
    "#test = data[~msk]\n",
    "cols = ['fixed acidity','volatile acidity','citric acid','residual sugar','chlorides','free sulfur dioxide','total sulfur dioxide','density','pH','sulphates', 'alcohol']\n",
    "x = data[cols]\n",
    "y = data.good.values"
   ]
  },
  {
   "cell_type": "code",
   "execution_count": 269,
   "metadata": {
    "collapsed": false
   },
   "outputs": [
    {
     "data": {
      "text/html": [
       "<div style=\"max-height:1000px;max-width:1500px;overflow:auto;\">\n",
       "<table border=\"1\" class=\"dataframe\">\n",
       "  <thead>\n",
       "    <tr style=\"text-align: right;\">\n",
       "      <th></th>\n",
       "      <th>fixed acidity</th>\n",
       "      <th>volatile acidity</th>\n",
       "      <th>citric acid</th>\n",
       "      <th>residual sugar</th>\n",
       "      <th>chlorides</th>\n",
       "      <th>free sulfur dioxide</th>\n",
       "      <th>total sulfur dioxide</th>\n",
       "      <th>density</th>\n",
       "      <th>pH</th>\n",
       "      <th>sulphates</th>\n",
       "      <th>alcohol</th>\n",
       "    </tr>\n",
       "  </thead>\n",
       "  <tbody>\n",
       "    <tr>\n",
       "      <th>0</th>\n",
       "      <td> 7.0</td>\n",
       "      <td> 0.27</td>\n",
       "      <td> 0.36</td>\n",
       "      <td> 20.7</td>\n",
       "      <td> 0.045</td>\n",
       "      <td> 45</td>\n",
       "      <td> 170</td>\n",
       "      <td> 1.0010</td>\n",
       "      <td> 3.00</td>\n",
       "      <td> 0.45</td>\n",
       "      <td>  8.8</td>\n",
       "    </tr>\n",
       "    <tr>\n",
       "      <th>1</th>\n",
       "      <td> 6.3</td>\n",
       "      <td> 0.30</td>\n",
       "      <td> 0.34</td>\n",
       "      <td>  1.6</td>\n",
       "      <td> 0.049</td>\n",
       "      <td> 14</td>\n",
       "      <td> 132</td>\n",
       "      <td> 0.9940</td>\n",
       "      <td> 3.30</td>\n",
       "      <td> 0.49</td>\n",
       "      <td>  9.5</td>\n",
       "    </tr>\n",
       "    <tr>\n",
       "      <th>2</th>\n",
       "      <td> 8.1</td>\n",
       "      <td> 0.28</td>\n",
       "      <td> 0.40</td>\n",
       "      <td>  6.9</td>\n",
       "      <td> 0.050</td>\n",
       "      <td> 30</td>\n",
       "      <td>  97</td>\n",
       "      <td> 0.9951</td>\n",
       "      <td> 3.26</td>\n",
       "      <td> 0.44</td>\n",
       "      <td> 10.1</td>\n",
       "    </tr>\n",
       "    <tr>\n",
       "      <th>3</th>\n",
       "      <td> 7.2</td>\n",
       "      <td> 0.23</td>\n",
       "      <td> 0.32</td>\n",
       "      <td>  8.5</td>\n",
       "      <td> 0.058</td>\n",
       "      <td> 47</td>\n",
       "      <td> 186</td>\n",
       "      <td> 0.9956</td>\n",
       "      <td> 3.19</td>\n",
       "      <td> 0.40</td>\n",
       "      <td>  9.9</td>\n",
       "    </tr>\n",
       "  </tbody>\n",
       "</table>\n",
       "</div>"
      ],
      "text/plain": [
       "   fixed acidity  volatile acidity  citric acid  residual sugar  chlorides  \\\n",
       "0            7.0              0.27         0.36            20.7      0.045   \n",
       "1            6.3              0.30         0.34             1.6      0.049   \n",
       "2            8.1              0.28         0.40             6.9      0.050   \n",
       "3            7.2              0.23         0.32             8.5      0.058   \n",
       "\n",
       "   free sulfur dioxide  total sulfur dioxide  density    pH  sulphates  \\\n",
       "0                   45                   170   1.0010  3.00       0.45   \n",
       "1                   14                   132   0.9940  3.30       0.49   \n",
       "2                   30                    97   0.9951  3.26       0.44   \n",
       "3                   47                   186   0.9956  3.19       0.40   \n",
       "\n",
       "   alcohol  \n",
       "0      8.8  \n",
       "1      9.5  \n",
       "2     10.1  \n",
       "3      9.9  "
      ]
     },
     "execution_count": 269,
     "metadata": {},
     "output_type": "execute_result"
    }
   ],
   "source": [
    "x.head(4)"
   ]
  },
  {
   "cell_type": "code",
   "execution_count": 270,
   "metadata": {
    "collapsed": false
   },
   "outputs": [
    {
     "data": {
      "text/plain": [
       "array([0, 0, 0, ..., 0, 0, 0])"
      ]
     },
     "execution_count": 270,
     "metadata": {},
     "output_type": "execute_result"
    }
   ],
   "source": [
    "y"
   ]
  },
  {
   "cell_type": "code",
   "execution_count": 271,
   "metadata": {
    "collapsed": false
   },
   "outputs": [],
   "source": [
    "#len(train)\n",
    "#len(test)\n",
    "\n",
    "x_train, x_test, y_train, y_test = train_test_split(x, y, test_size=0.3, random_state=1)"
   ]
  },
  {
   "cell_type": "code",
   "execution_count": 272,
   "metadata": {
    "collapsed": false
   },
   "outputs": [
    {
     "name": "stdout",
     "output_type": "stream",
     "text": [
      "3428\n",
      "1470\n"
     ]
    }
   ],
   "source": [
    "x_train\n",
    "x_test\n",
    "y_train\n",
    "y_test\n",
    "print len(x_train)\n",
    "print len(x_test)"
   ]
  },
  {
   "cell_type": "code",
   "execution_count": 273,
   "metadata": {
    "collapsed": false
   },
   "outputs": [],
   "source": [
    "from sklearn import svm"
   ]
  },
  {
   "cell_type": "code",
   "execution_count": 274,
   "metadata": {
    "collapsed": true
   },
   "outputs": [],
   "source": [
    "clf = svm.SVC()"
   ]
  },
  {
   "cell_type": "code",
   "execution_count": 275,
   "metadata": {
    "collapsed": false
   },
   "outputs": [
    {
     "data": {
      "text/plain": [
       "SVC(C=1.0, cache_size=200, class_weight=None, coef0=0.0, degree=3, gamma=0.0,\n",
       "  kernel='rbf', max_iter=-1, probability=False, random_state=None,\n",
       "  shrinking=True, tol=0.001, verbose=False)"
      ]
     },
     "execution_count": 275,
     "metadata": {},
     "output_type": "execute_result"
    }
   ],
   "source": [
    "clf.fit(x_train, y_train)"
   ]
  },
  {
   "cell_type": "code",
   "execution_count": 276,
   "metadata": {
    "collapsed": false
   },
   "outputs": [],
   "source": [
    "clf = svm.SVC(kernel= 'linear')"
   ]
  },
  {
   "cell_type": "code",
   "execution_count": 25,
   "metadata": {
    "collapsed": false
   },
   "outputs": [
    {
     "ename": "AttributeError",
     "evalue": "'SVC' object has no attribute '_sparse'",
     "output_type": "error",
     "traceback": [
      "\u001b[0;31m---------------------------------------------------------------------------\u001b[0m",
      "\u001b[0;31mAttributeError\u001b[0m                            Traceback (most recent call last)",
      "\u001b[0;32m<ipython-input-25-ac9ea12fb44a>\u001b[0m in \u001b[0;36m<module>\u001b[0;34m()\u001b[0m\n\u001b[0;32m----> 1\u001b[0;31m \u001b[0mpredicted\u001b[0m \u001b[0;34m=\u001b[0m \u001b[0mclf\u001b[0m\u001b[0;34m.\u001b[0m\u001b[0mpredict\u001b[0m\u001b[0;34m(\u001b[0m\u001b[0mx_test\u001b[0m\u001b[0;34m)\u001b[0m\u001b[0;34m\u001b[0m\u001b[0m\n\u001b[0m",
      "\u001b[0;32m/Users/prateekgangwal/anaconda/lib/python2.7/site-packages/sklearn/svm/base.pyc\u001b[0m in \u001b[0;36mpredict\u001b[0;34m(self, X)\u001b[0m\n\u001b[1;32m    465\u001b[0m             \u001b[0mClass\u001b[0m \u001b[0mlabels\u001b[0m \u001b[0;32mfor\u001b[0m \u001b[0msamples\u001b[0m \u001b[0;32min\u001b[0m \u001b[0mX\u001b[0m\u001b[0;34m.\u001b[0m\u001b[0;34m\u001b[0m\u001b[0m\n\u001b[1;32m    466\u001b[0m         \"\"\"\n\u001b[0;32m--> 467\u001b[0;31m         \u001b[0my\u001b[0m \u001b[0;34m=\u001b[0m \u001b[0msuper\u001b[0m\u001b[0;34m(\u001b[0m\u001b[0mBaseSVC\u001b[0m\u001b[0;34m,\u001b[0m \u001b[0mself\u001b[0m\u001b[0;34m)\u001b[0m\u001b[0;34m.\u001b[0m\u001b[0mpredict\u001b[0m\u001b[0;34m(\u001b[0m\u001b[0mX\u001b[0m\u001b[0;34m)\u001b[0m\u001b[0;34m\u001b[0m\u001b[0m\n\u001b[0m\u001b[1;32m    468\u001b[0m         \u001b[0;32mreturn\u001b[0m \u001b[0mself\u001b[0m\u001b[0;34m.\u001b[0m\u001b[0mclasses_\u001b[0m\u001b[0;34m.\u001b[0m\u001b[0mtake\u001b[0m\u001b[0;34m(\u001b[0m\u001b[0mnp\u001b[0m\u001b[0;34m.\u001b[0m\u001b[0masarray\u001b[0m\u001b[0;34m(\u001b[0m\u001b[0my\u001b[0m\u001b[0;34m,\u001b[0m \u001b[0mdtype\u001b[0m\u001b[0;34m=\u001b[0m\u001b[0mnp\u001b[0m\u001b[0;34m.\u001b[0m\u001b[0mintp\u001b[0m\u001b[0;34m)\u001b[0m\u001b[0;34m)\u001b[0m\u001b[0;34m\u001b[0m\u001b[0m\n\u001b[1;32m    469\u001b[0m \u001b[0;34m\u001b[0m\u001b[0m\n",
      "\u001b[0;32m/Users/prateekgangwal/anaconda/lib/python2.7/site-packages/sklearn/svm/base.pyc\u001b[0m in \u001b[0;36mpredict\u001b[0;34m(self, X)\u001b[0m\n\u001b[1;32m    281\u001b[0m         \u001b[0my_pred\u001b[0m \u001b[0;34m:\u001b[0m \u001b[0marray\u001b[0m\u001b[0;34m,\u001b[0m \u001b[0mshape\u001b[0m \u001b[0;34m(\u001b[0m\u001b[0mn_samples\u001b[0m\u001b[0;34m,\u001b[0m\u001b[0;34m)\u001b[0m\u001b[0;34m\u001b[0m\u001b[0m\n\u001b[1;32m    282\u001b[0m         \"\"\"\n\u001b[0;32m--> 283\u001b[0;31m         \u001b[0mX\u001b[0m \u001b[0;34m=\u001b[0m \u001b[0mself\u001b[0m\u001b[0;34m.\u001b[0m\u001b[0m_validate_for_predict\u001b[0m\u001b[0;34m(\u001b[0m\u001b[0mX\u001b[0m\u001b[0;34m)\u001b[0m\u001b[0;34m\u001b[0m\u001b[0m\n\u001b[0m\u001b[1;32m    284\u001b[0m         \u001b[0mpredict\u001b[0m \u001b[0;34m=\u001b[0m \u001b[0mself\u001b[0m\u001b[0;34m.\u001b[0m\u001b[0m_sparse_predict\u001b[0m \u001b[0;32mif\u001b[0m \u001b[0mself\u001b[0m\u001b[0;34m.\u001b[0m\u001b[0m_sparse\u001b[0m \u001b[0;32melse\u001b[0m \u001b[0mself\u001b[0m\u001b[0;34m.\u001b[0m\u001b[0m_dense_predict\u001b[0m\u001b[0;34m\u001b[0m\u001b[0m\n\u001b[1;32m    285\u001b[0m         \u001b[0;32mreturn\u001b[0m \u001b[0mpredict\u001b[0m\u001b[0;34m(\u001b[0m\u001b[0mX\u001b[0m\u001b[0;34m)\u001b[0m\u001b[0;34m\u001b[0m\u001b[0m\n",
      "\u001b[0;32m/Users/prateekgangwal/anaconda/lib/python2.7/site-packages/sklearn/svm/base.pyc\u001b[0m in \u001b[0;36m_validate_for_predict\u001b[0;34m(self, X)\u001b[0m\n\u001b[1;32m    384\u001b[0m     \u001b[0;32mdef\u001b[0m \u001b[0m_validate_for_predict\u001b[0m\u001b[0;34m(\u001b[0m\u001b[0mself\u001b[0m\u001b[0;34m,\u001b[0m \u001b[0mX\u001b[0m\u001b[0;34m)\u001b[0m\u001b[0;34m:\u001b[0m\u001b[0;34m\u001b[0m\u001b[0m\n\u001b[1;32m    385\u001b[0m         \u001b[0mX\u001b[0m \u001b[0;34m=\u001b[0m \u001b[0matleast2d_or_csr\u001b[0m\u001b[0;34m(\u001b[0m\u001b[0mX\u001b[0m\u001b[0;34m,\u001b[0m \u001b[0mdtype\u001b[0m\u001b[0;34m=\u001b[0m\u001b[0mnp\u001b[0m\u001b[0;34m.\u001b[0m\u001b[0mfloat64\u001b[0m\u001b[0;34m,\u001b[0m \u001b[0morder\u001b[0m\u001b[0;34m=\u001b[0m\u001b[0;34m\"C\"\u001b[0m\u001b[0;34m)\u001b[0m\u001b[0;34m\u001b[0m\u001b[0m\n\u001b[0;32m--> 386\u001b[0;31m         \u001b[0;32mif\u001b[0m \u001b[0mself\u001b[0m\u001b[0;34m.\u001b[0m\u001b[0m_sparse\u001b[0m \u001b[0;32mand\u001b[0m \u001b[0;32mnot\u001b[0m \u001b[0msp\u001b[0m\u001b[0;34m.\u001b[0m\u001b[0misspmatrix\u001b[0m\u001b[0;34m(\u001b[0m\u001b[0mX\u001b[0m\u001b[0;34m)\u001b[0m\u001b[0;34m:\u001b[0m\u001b[0;34m\u001b[0m\u001b[0m\n\u001b[0m\u001b[1;32m    387\u001b[0m             \u001b[0mX\u001b[0m \u001b[0;34m=\u001b[0m \u001b[0msp\u001b[0m\u001b[0;34m.\u001b[0m\u001b[0mcsr_matrix\u001b[0m\u001b[0;34m(\u001b[0m\u001b[0mX\u001b[0m\u001b[0;34m)\u001b[0m\u001b[0;34m\u001b[0m\u001b[0m\n\u001b[1;32m    388\u001b[0m         \u001b[0;32mif\u001b[0m \u001b[0mself\u001b[0m\u001b[0;34m.\u001b[0m\u001b[0m_sparse\u001b[0m\u001b[0;34m:\u001b[0m\u001b[0;34m\u001b[0m\u001b[0m\n",
      "\u001b[0;31mAttributeError\u001b[0m: 'SVC' object has no attribute '_sparse'"
     ]
    }
   ],
   "source": [
    "predicted = clf.predict(x_test)"
   ]
  },
  {
   "cell_type": "code",
   "execution_count": 277,
   "metadata": {
    "collapsed": false
   },
   "outputs": [
    {
     "ename": "NameError",
     "evalue": "name 'predicted' is not defined",
     "output_type": "error",
     "traceback": [
      "\u001b[0;31m---------------------------------------------------------------------------\u001b[0m",
      "\u001b[0;31mNameError\u001b[0m                                 Traceback (most recent call last)",
      "\u001b[0;32m<ipython-input-277-9c04eaadd87e>\u001b[0m in \u001b[0;36m<module>\u001b[0;34m()\u001b[0m\n\u001b[0;32m----> 1\u001b[0;31m \u001b[0;32mprint\u001b[0m \u001b[0mmetrics\u001b[0m\u001b[0;34m.\u001b[0m\u001b[0maccuracy_score\u001b[0m\u001b[0;34m(\u001b[0m\u001b[0my_test\u001b[0m\u001b[0;34m,\u001b[0m \u001b[0mpredicted\u001b[0m\u001b[0;34m)\u001b[0m\u001b[0;34m\u001b[0m\u001b[0m\n\u001b[0m",
      "\u001b[0;31mNameError\u001b[0m: name 'predicted' is not defined"
     ]
    }
   ],
   "source": [
    "print metrics.accuracy_score(y_test, predicted)"
   ]
  },
  {
   "cell_type": "code",
   "execution_count": 278,
   "metadata": {
    "collapsed": false
   },
   "outputs": [],
   "source": [
    "#print metrics.roc_auc_score(y_test, predicted)"
   ]
  },
  {
   "cell_type": "code",
   "execution_count": 305,
   "metadata": {
    "collapsed": false
   },
   "outputs": [
    {
     "name": "stdout",
     "output_type": "stream",
     "text": [
      "0.963945578231\n",
      "[[1417    5]\n",
      " [  48    0]]\n"
     ]
    }
   ],
   "source": [
    "# Using SGD Classifier_hingeloss_24_L0\n",
    "\n",
    "clf1 = SGDClassifier(loss=\"hinge\", alpha=0.01, n_iter=24, fit_intercept=True,penalty='none')\n",
    "clf1.fit(x_train, y_train)\n",
    "predicted1 = clf1.predict(x_test)\n",
    "print metrics.accuracy_score(y_test, predicted1)\n",
    "print metrics.confusion_matrix(y_test,predicted1)"
   ]
  },
  {
   "cell_type": "code",
   "execution_count": 318,
   "metadata": {
    "collapsed": false
   },
   "outputs": [
    {
     "name": "stdout",
     "output_type": "stream",
     "text": [
      "0.959183673469\n",
      "[[1410   12]\n",
      " [  48    0]]\n"
     ]
    }
   ],
   "source": [
    "# Using SGD Classifier_hingeloss_20_L0\n",
    "\n",
    "clf1 = SGDClassifier(loss=\"hinge\", alpha=0.01, n_iter=20, fit_intercept=True,penalty='none')\n",
    "clf1.fit(x_train, y_train)\n",
    "predicted1 = clf1.predict(x_test)\n",
    "print metrics.accuracy_score(y_test, predicted1)\n",
    "print metrics.confusion_matrix(y_test,predicted1)"
   ]
  },
  {
   "cell_type": "code",
   "execution_count": 324,
   "metadata": {
    "collapsed": false
   },
   "outputs": [
    {
     "name": "stdout",
     "output_type": "stream",
     "text": [
      "0.965306122449\n",
      "[[1419    3]\n",
      " [  48    0]]\n"
     ]
    }
   ],
   "source": [
    "# Using SGD Classifier_hingeloss_40_L0\n",
    "\n",
    "clf1 = SGDClassifier(loss=\"hinge\", alpha=0.01, n_iter=40, fit_intercept=True,penalty='none')\n",
    "clf1.fit(x_train, y_train)\n",
    "predicted1 = clf1.predict(x_test)\n",
    "print metrics.accuracy_score(y_test, predicted1)\n",
    "print metrics.confusion_matrix(y_test,predicted1)"
   ]
  },
  {
   "cell_type": "code",
   "execution_count": 331,
   "metadata": {
    "collapsed": false
   },
   "outputs": [
    {
     "name": "stdout",
     "output_type": "stream",
     "text": [
      "0.957142857143\n",
      "[[1407   15]\n",
      " [  48    0]]\n"
     ]
    }
   ],
   "source": [
    "# Using SGD Classifier_hingeloss_24_L1\n",
    "\n",
    "clf1 = SGDClassifier(loss=\"hinge\", alpha=0.01, n_iter=24, l1_ratio=1, fit_intercept=True,penalty='l1')\n",
    "clf1.fit(x_train, y_train)\n",
    "predicted1 = clf1.predict(x_test)\n",
    "print metrics.accuracy_score(y_test, predicted1)\n",
    "print metrics.confusion_matrix(y_test,predicted1)"
   ]
  },
  {
   "cell_type": "code",
   "execution_count": 332,
   "metadata": {
    "collapsed": false
   },
   "outputs": [
    {
     "name": "stdout",
     "output_type": "stream",
     "text": [
      "0.957823129252\n",
      "[[1408   14]\n",
      " [  48    0]]\n"
     ]
    }
   ],
   "source": [
    "# Using SGD Classifier_hingeloss_20_L1\n",
    "\n",
    "clf1 = SGDClassifier(loss=\"hinge\", alpha=0.01, n_iter=20, l1_ratio=1, fit_intercept=True,penalty='l1')\n",
    "clf1.fit(x_train, y_train)\n",
    "predicted1 = clf1.predict(x_test)\n",
    "print metrics.accuracy_score(y_test, predicted1)\n",
    "print metrics.confusion_matrix(y_test,predicted1)"
   ]
  },
  {
   "cell_type": "code",
   "execution_count": 330,
   "metadata": {
    "collapsed": false
   },
   "outputs": [
    {
     "name": "stdout",
     "output_type": "stream",
     "text": [
      "0.962585034014\n",
      "[[1415    7]\n",
      " [  48    0]]\n"
     ]
    }
   ],
   "source": [
    "# Using SGD Classifier_hingeloss_40_L1\n",
    "\n",
    "clf1 = SGDClassifier(loss=\"hinge\", alpha=0.01, n_iter=40, l1_ratio=1, fit_intercept=True,penalty='l1')\n",
    "clf1.fit(x_train, y_train)\n",
    "predicted1 = clf1.predict(x_test)\n",
    "print metrics.accuracy_score(y_test, predicted1)\n",
    "print metrics.confusion_matrix(y_test,predicted1)"
   ]
  },
  {
   "cell_type": "code",
   "execution_count": 333,
   "metadata": {
    "collapsed": false
   },
   "outputs": [
    {
     "name": "stdout",
     "output_type": "stream",
     "text": [
      "0.957142857143\n",
      "[[1406   16]\n",
      " [  47    1]]\n"
     ]
    }
   ],
   "source": [
    "# Using SGD Classifier_hingeloss_40_L2\n",
    "\n",
    "clf1 = SGDClassifier(loss=\"hinge\", alpha=0.01, n_iter=40, fit_intercept=True,penalty='l2')\n",
    "clf1.fit(x_train, y_train)\n",
    "predicted1 = clf1.predict(x_test)\n",
    "print metrics.accuracy_score(y_test, predicted1)\n",
    "print metrics.confusion_matrix(y_test,predicted1)"
   ]
  },
  {
   "cell_type": "code",
   "execution_count": 334,
   "metadata": {
    "collapsed": false
   },
   "outputs": [
    {
     "name": "stdout",
     "output_type": "stream",
     "text": [
      "0.965986394558\n",
      "[[1420    2]\n",
      " [  48    0]]\n"
     ]
    }
   ],
   "source": [
    "# Using SGD Classifier_hingeloss_24_L2\n",
    "\n",
    "clf1 = SGDClassifier(loss=\"hinge\", alpha=0.01, n_iter=24, fit_intercept=True,penalty='l2')\n",
    "clf1.fit(x_train, y_train)\n",
    "predicted1 = clf1.predict(x_test)\n",
    "print metrics.accuracy_score(y_test, predicted1)\n",
    "print metrics.confusion_matrix(y_test,predicted1)"
   ]
  },
  {
   "cell_type": "code",
   "execution_count": 335,
   "metadata": {
    "collapsed": false
   },
   "outputs": [
    {
     "name": "stdout",
     "output_type": "stream",
     "text": [
      "0.955782312925\n",
      "[[1402   20]\n",
      " [  45    3]]\n"
     ]
    }
   ],
   "source": [
    "# Using SGD Classifier_hingeloss_20_L2\n",
    "\n",
    "clf1 = SGDClassifier(loss=\"hinge\", alpha=0.01, n_iter=20, fit_intercept=True,penalty='l2')\n",
    "clf1.fit(x_train, y_train)\n",
    "predicted1 = clf1.predict(x_test)\n",
    "print metrics.accuracy_score(y_test, predicted1)\n",
    "print metrics.confusion_matrix(y_test,predicted1)"
   ]
  },
  {
   "cell_type": "code",
   "execution_count": 336,
   "metadata": {
    "collapsed": false
   },
   "outputs": [
    {
     "name": "stdout",
     "output_type": "stream",
     "text": [
      "0.950340136054\n",
      "[[1394   28]\n",
      " [  45    3]]\n"
     ]
    }
   ],
   "source": [
    "# Using SGD Classifier_log_24_none\n",
    "\n",
    "clf3 = SGDClassifier(loss=\"log\", alpha=0.01, n_iter=24, fit_intercept=True, penalty='none')\n",
    "clf3.fit(x_train, y_train)\n",
    "predicted3 = clf3.predict(x_test)\n",
    "print metrics.accuracy_score(y_test, predicted3)\n",
    "print metrics.confusion_matrix(y_test,predicted3)"
   ]
  },
  {
   "cell_type": "code",
   "execution_count": 337,
   "metadata": {
    "collapsed": false
   },
   "outputs": [
    {
     "name": "stdout",
     "output_type": "stream",
     "text": [
      "0.937414965986\n",
      "[[1373   49]\n",
      " [  43    5]]\n"
     ]
    }
   ],
   "source": [
    "# Using SGD Classifier_log_20_none\n",
    "\n",
    "clf3 = SGDClassifier(loss=\"log\", alpha=0.01, n_iter=20, fit_intercept=True, penalty='none')\n",
    "clf3.fit(x_train, y_train)\n",
    "predicted3 = clf3.predict(x_test)\n",
    "print metrics.accuracy_score(y_test, predicted3)\n",
    "print metrics.confusion_matrix(y_test,predicted3)"
   ]
  },
  {
   "cell_type": "code",
   "execution_count": 338,
   "metadata": {
    "collapsed": false
   },
   "outputs": [
    {
     "name": "stdout",
     "output_type": "stream",
     "text": [
      "0.944897959184\n",
      "[[1386   36]\n",
      " [  45    3]]\n"
     ]
    }
   ],
   "source": [
    "# Using SGD Classifier_log_40_none\n",
    "\n",
    "clf3 = SGDClassifier(loss=\"log\", alpha=0.01, n_iter=40, fit_intercept=True, penalty='none')\n",
    "clf3.fit(x_train, y_train)\n",
    "predicted3 = clf3.predict(x_test)\n",
    "print metrics.accuracy_score(y_test, predicted3)\n",
    "print metrics.confusion_matrix(y_test,predicted3)"
   ]
  },
  {
   "cell_type": "code",
   "execution_count": 339,
   "metadata": {
    "collapsed": false
   },
   "outputs": [
    {
     "name": "stdout",
     "output_type": "stream",
     "text": [
      "0.959863945578\n",
      "[[1411   11]\n",
      " [  48    0]]\n"
     ]
    }
   ],
   "source": [
    "# Using SGD Classifier_log_24_L1\n",
    "\n",
    "clf4 = SGDClassifier(loss=\"log\", alpha=0.01, n_iter=24, fit_intercept=True,penalty='l1')\n",
    "clf4.fit(x_train, y_train)\n",
    "predicted4 = clf4.predict(x_test)\n",
    "print metrics.accuracy_score(y_test, predicted4)\n",
    "print metrics.confusion_matrix(y_test,predicted4)"
   ]
  },
  {
   "cell_type": "code",
   "execution_count": 340,
   "metadata": {
    "collapsed": false
   },
   "outputs": [
    {
     "name": "stdout",
     "output_type": "stream",
     "text": [
      "0.965986394558\n",
      "[[1420    2]\n",
      " [  48    0]]\n"
     ]
    }
   ],
   "source": [
    "# Using SGD Classifier_log_20_L1\n",
    "\n",
    "clf4 = SGDClassifier(loss=\"log\", alpha=0.01, n_iter=20, fit_intercept=True,penalty='l1')\n",
    "clf4.fit(x_train, y_train)\n",
    "predicted4 = clf4.predict(x_test)\n",
    "print metrics.accuracy_score(y_test, predicted4)\n",
    "print metrics.confusion_matrix(y_test,predicted4)"
   ]
  },
  {
   "cell_type": "code",
   "execution_count": 341,
   "metadata": {
    "collapsed": false
   },
   "outputs": [
    {
     "name": "stdout",
     "output_type": "stream",
     "text": [
      "0.963265306122\n",
      "[[1416    6]\n",
      " [  48    0]]\n"
     ]
    }
   ],
   "source": [
    "# Using SGD Classifier_log_40_L1\n",
    "\n",
    "clf4 = SGDClassifier(loss=\"log\", alpha=0.01, n_iter=40, fit_intercept=True,penalty='l1')\n",
    "clf4.fit(x_train, y_train)\n",
    "predicted4 = clf4.predict(x_test)\n",
    "print metrics.accuracy_score(y_test, predicted4)\n",
    "print metrics.confusion_matrix(y_test,predicted4)"
   ]
  },
  {
   "cell_type": "code",
   "execution_count": 342,
   "metadata": {
    "collapsed": false
   },
   "outputs": [
    {
     "name": "stdout",
     "output_type": "stream",
     "text": [
      "0.959183673469\n",
      "[[1409   13]\n",
      " [  47    1]]\n"
     ]
    }
   ],
   "source": [
    "# Using SGD Classifier_log_24_L2\n",
    "\n",
    "clf4 = SGDClassifier(loss=\"log\", alpha=0.01, n_iter=24, fit_intercept=True,penalty='l2')\n",
    "clf4.fit(x_train, y_train)\n",
    "predicted4 = clf4.predict(x_test)\n",
    "print metrics.accuracy_score(y_test, predicted4)\n",
    "print metrics.confusion_matrix(y_test,predicted4)"
   ]
  },
  {
   "cell_type": "code",
   "execution_count": 343,
   "metadata": {
    "collapsed": false
   },
   "outputs": [
    {
     "name": "stdout",
     "output_type": "stream",
     "text": [
      "0.958503401361\n",
      "[[1408   14]\n",
      " [  47    1]]\n"
     ]
    }
   ],
   "source": [
    "# Using SGD Classifier_log_20_L2\n",
    "\n",
    "clf4 = SGDClassifier(loss=\"log\", alpha=0.01, n_iter=20, fit_intercept=True,penalty='l2')\n",
    "clf4.fit(x_train, y_train)\n",
    "predicted4 = clf4.predict(x_test)\n",
    "print metrics.accuracy_score(y_test, predicted4)\n",
    "print metrics.confusion_matrix(y_test,predicted4)"
   ]
  },
  {
   "cell_type": "code",
   "execution_count": 344,
   "metadata": {
    "collapsed": false
   },
   "outputs": [
    {
     "name": "stdout",
     "output_type": "stream",
     "text": [
      "0.961904761905\n",
      "[[1414    8]\n",
      " [  48    0]]\n"
     ]
    }
   ],
   "source": [
    "# Using SGD Classifier_log_40_L2\n",
    "\n",
    "clf4 = SGDClassifier(loss=\"log\", alpha=0.01, n_iter=40, fit_intercept=True,penalty='l2')\n",
    "clf4.fit(x_train, y_train)\n",
    "predicted4 = clf4.predict(x_test)\n",
    "print metrics.accuracy_score(y_test, predicted4)\n",
    "print metrics.confusion_matrix(y_test,predicted4)"
   ]
  },
  {
   "cell_type": "code",
   "execution_count": 34,
   "metadata": {
    "collapsed": true
   },
   "outputs": [],
   "source": [
    "##################################################"
   ]
  },
  {
   "cell_type": "code",
   "execution_count": 345,
   "metadata": {
    "collapsed": false
   },
   "outputs": [
    {
     "name": "stdout",
     "output_type": "stream",
     "text": [
      "0.967346938776\n",
      "[[1422    0]\n",
      " [  48    0]]\n"
     ]
    }
   ],
   "source": [
    "# Using LogisticRegression_l1\n",
    "clf6 = LogisticRegression(penalty='l1',dual=False,tol=0.01)\n",
    "clf6.fit(x_train, y_train)\n",
    "predicted6 = clf6.predict(x_test)\n",
    "predicted6\n",
    "print metrics.accuracy_score(y_test, predicted6)\n",
    "print metrics.confusion_matrix(y_test,predicted6)"
   ]
  },
  {
   "cell_type": "code",
   "execution_count": null,
   "metadata": {
    "collapsed": true
   },
   "outputs": [],
   "source": [
    "# Using LogisticRegression_l1\n",
    "clf6 = LogisticRegression(penalty='l1',dual=False,tol=0.01)\n",
    "clf6.fit(x_train, y_train)\n",
    "predicted6 = clf6.predict(x_test)\n",
    "predicted6\n",
    "print metrics.accuracy_score(y_test, predicted6)\n",
    "print metrics.confusion_matrix(y_test,predicted6)"
   ]
  },
  {
   "cell_type": "code",
   "execution_count": null,
   "metadata": {
    "collapsed": true
   },
   "outputs": [],
   "source": [
    "# Using LogisticRegression_l1\n",
    "clf6 = LogisticRegression(penalty='l1',dual=False,tol=0.01)\n",
    "clf6.fit(x_train, y_train)\n",
    "predicted6 = clf6.predict(x_test)\n",
    "predicted6\n",
    "print metrics.accuracy_score(y_test, predicted6)\n",
    "print metrics.confusion_matrix(y_test,predicted6)"
   ]
  },
  {
   "cell_type": "code",
   "execution_count": null,
   "metadata": {
    "collapsed": true
   },
   "outputs": [],
   "source": []
  },
  {
   "cell_type": "code",
   "execution_count": 346,
   "metadata": {
    "collapsed": false
   },
   "outputs": [
    {
     "name": "stdout",
     "output_type": "stream",
     "text": [
      "0.967346938776\n",
      "[[1422    0]\n",
      " [  48    0]]\n"
     ]
    }
   ],
   "source": [
    "# Using LogisticRegression_l2\n",
    "clf7 = LogisticRegression(penalty='l2',dual=True,tol=0.01)\n",
    "clf7.fit(x_train, y_train)\n",
    "predicted7 = clf7.predict(x_test)\n",
    "predicted7\n",
    "print metrics.accuracy_score(y_test, predicted7)\n",
    "print metrics.confusion_matrix(y_test,predicted7)"
   ]
  },
  {
   "cell_type": "code",
   "execution_count": null,
   "metadata": {
    "collapsed": true
   },
   "outputs": [],
   "source": [
    "# Using LogisticRegression_l2\n",
    "clf7 = LogisticRegression(penalty='l2',dual=True,tol=0.01)\n",
    "clf7.fit(x_train, y_train)\n",
    "predicted7 = clf7.predict(x_test)\n",
    "predicted7\n",
    "print metrics.accuracy_score(y_test, predicted7)\n",
    "print metrics.confusion_matrix(y_test,predicted7)"
   ]
  },
  {
   "cell_type": "code",
   "execution_count": null,
   "metadata": {
    "collapsed": true
   },
   "outputs": [],
   "source": [
    "# Using LogisticRegression_l2\n",
    "clf7 = LogisticRegression(penalty='l2',dual=True,tol=0.01)\n",
    "clf7.fit(x_train, y_train)\n",
    "predicted7 = clf7.predict(x_test)\n",
    "predicted7\n",
    "print metrics.accuracy_score(y_test, predicted7)\n",
    "print metrics.confusion_matrix(y_test,predicted7)"
   ]
  }
 ],
 "metadata": {
  "kernelspec": {
   "display_name": "Python 2",
   "language": "python",
   "name": "python2"
  },
  "language_info": {
   "codemirror_mode": {
    "name": "ipython",
    "version": 2
   },
   "file_extension": ".py",
   "mimetype": "text/x-python",
   "name": "python",
   "nbconvert_exporter": "python",
   "pygments_lexer": "ipython2",
   "version": "2.7.9"
  }
 },
 "nbformat": 4,
 "nbformat_minor": 0
}
