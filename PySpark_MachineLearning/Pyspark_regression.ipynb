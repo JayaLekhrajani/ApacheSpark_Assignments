{
 "cells": [
  {
   "cell_type": "code",
   "execution_count": 7,
   "metadata": {
    "collapsed": false
   },
   "outputs": [],
   "source": [
    "from pyspark import SparkConf, SparkContext\n",
    "from pyspark.mllib.regression import LabeledPoint, LinearRegressionWithSGD\n",
    "from pyspark.mllib.regression import LassoWithSGD,RidgeRegressionWithSGD\n",
    "sc = SparkContext(appName=\"Regression\")"
   ]
  },
  {
   "cell_type": "code",
   "execution_count": 8,
   "metadata": {
    "collapsed": false
   },
   "outputs": [],
   "source": [
    "dataFile = sc.textFile(\"C:\\Users\\Bellamkonda\\Desktop\\Spark\\wine_regression.csv\")\n"
   ]
  },
  {
   "cell_type": "code",
   "execution_count": 9,
   "metadata": {
    "collapsed": false
   },
   "outputs": [
    {
     "data": {
      "text/plain": [
       "[u'6,7 0.27 0.36 20.7 0.045 45 170 1.001 3 0.45 8.8',\n",
       " u'6,6.3 0.3 0.34 1.6 0.049 14 132 0.994 3.3 0.49 9.5',\n",
       " u'6,8.1 0.28 0.4 6.9 0.05 30 97 0.9951 3.26 0.44 10.1',\n",
       " u'6,7.2 0.23 0.32 8.5 0.058 47 186 0.9956 3.19 0.4 9.9',\n",
       " u'6,7.2 0.23 0.32 8.5 0.058 47 186 0.9956 3.19 0.4 9.9',\n",
       " u'6,8.1 0.28 0.4 6.9 0.05 30 97 0.9951 3.26 0.44 10.1',\n",
       " u'6,6.2 0.32 0.16 7 0.045 30 136 0.9949 3.18 0.47 9.6',\n",
       " u'6,7 0.27 0.36 20.7 0.045 45 170 1.001 3 0.45 8.8',\n",
       " u'6,6.3 0.3 0.34 1.6 0.049 14 132 0.994 3.3 0.49 9.5',\n",
       " u'6,8.1 0.22 0.43 1.5 0.044 28 129 0.9938 3.22 0.45 11',\n",
       " u'5,8.1 0.27 0.41 1.45 0.033 11 63 0.9908 2.99 0.56 12',\n",
       " u'5,8.6 0.23 0.4 4.2 0.035 17 109 0.9947 3.14 0.53 9.7',\n",
       " u'5,7.9 0.18 0.37 1.2 0.04 16 75 0.992 3.18 0.63 10.8',\n",
       " u'7,6.6 0.16 0.4 1.5 0.044 48 143 0.9912 3.54 0.52 12.4',\n",
       " u'5,8.3 0.42 0.62 19.25 0.04 41 172 1.0002 2.98 0.67 9.7']"
      ]
     },
     "execution_count": 9,
     "metadata": {},
     "output_type": "execute_result"
    }
   ],
   "source": [
    "dataFile.take(15)"
   ]
  },
  {
   "cell_type": "code",
   "execution_count": 10,
   "metadata": {
    "collapsed": false
   },
   "outputs": [],
   "source": [
    "#Parsing function and creating a labeled point for dependent and independent variables\n",
    "def line_to_array(line):\n",
    "    string_array = line.split(',')\n",
    "    return LabeledPoint(string_array[0], string_array[1].split(' '))\n"
   ]
  },
  {
   "cell_type": "code",
   "execution_count": 11,
   "metadata": {
    "collapsed": true
   },
   "outputs": [],
   "source": [
    "#Using map function to parse the data\n",
    "parsedData = dataFile.map(line_to_array)"
   ]
  },
  {
   "cell_type": "code",
   "execution_count": 10,
   "metadata": {
    "collapsed": false
   },
   "outputs": [
    {
     "data": {
      "text/plain": [
       "[LabeledPoint(6.0, [7.0,0.27,0.36,20.7,0.045,45.0,170.0,1.001,3.0,0.45,8.8]),\n",
       " LabeledPoint(6.0, [6.3,0.3,0.34,1.6,0.049,14.0,132.0,0.994,3.3,0.49,9.5]),\n",
       " LabeledPoint(6.0, [8.1,0.28,0.4,6.9,0.05,30.0,97.0,0.9951,3.26,0.44,10.1]),\n",
       " LabeledPoint(6.0, [7.2,0.23,0.32,8.5,0.058,47.0,186.0,0.9956,3.19,0.4,9.9]),\n",
       " LabeledPoint(6.0, [7.2,0.23,0.32,8.5,0.058,47.0,186.0,0.9956,3.19,0.4,9.9])]"
      ]
     },
     "execution_count": 10,
     "metadata": {},
     "output_type": "execute_result"
    }
   ],
   "source": [
    "parsedData.take(5)"
   ]
  },
  {
   "cell_type": "code",
   "execution_count": 12,
   "metadata": {
    "collapsed": true
   },
   "outputs": [],
   "source": [
    "#using randomSplit function to split data into trainingRDD and testRDD \n",
    "(trainingData, testData) = parsedData.randomSplit([0.7, 0.3])"
   ]
  },
  {
   "cell_type": "code",
   "execution_count": 12,
   "metadata": {
    "collapsed": false
   },
   "outputs": [
    {
     "name": "stdout",
     "output_type": "stream",
     "text": [
      "3455\n"
     ]
    }
   ],
   "source": [
    "#printing count of trainingRDD\n",
    "print trainingData.count()"
   ]
  },
  {
   "cell_type": "code",
   "execution_count": 13,
   "metadata": {
    "collapsed": false
   },
   "outputs": [
    {
     "name": "stdout",
     "output_type": "stream",
     "text": [
      "1443\n"
     ]
    }
   ],
   "source": [
    "#printing count of testRDD\n",
    "print testData.count()"
   ]
  },
  {
   "cell_type": "code",
   "execution_count": 21,
   "metadata": {
    "collapsed": false
   },
   "outputs": [],
   "source": [
    "# Build the model LinearRegression with SGD and no regularization\n",
    "model_linear_none = LinearRegressionWithSGD.train(trainingData, iterations=500, step=0.001)"
   ]
  },
  {
   "cell_type": "code",
   "execution_count": 22,
   "metadata": {
    "collapsed": false
   },
   "outputs": [
    {
     "name": "stdout",
     "output_type": "stream",
     "text": [
      "Mean Squared Error = 2.45898381738e+52\n"
     ]
    }
   ],
   "source": [
    "# Evaluate the model on test data\n",
    "valuesAndPreds =  testData.map(lambda p: (p.label, model_linear_none.predict(p.features)))\n",
    "MSE = valuesAndPreds.map(lambda (v, p): (v - p)**2).reduce(lambda x, y: x + y) / valuesAndPreds.count()\n",
    "print(\"Mean Squared Error = \" + str(MSE))\n",
    "                                      "
   ]
  },
  {
   "cell_type": "code",
   "execution_count": 43,
   "metadata": {
    "collapsed": true
   },
   "outputs": [],
   "source": [
    "# Build the model RidgeRegression with SGD and L2 regularization\n",
    "model_Ridge = RidgeRegressionWithSGD.train(trainingData, iterations=500, step=0.0001)"
   ]
  },
  {
   "cell_type": "code",
   "execution_count": 44,
   "metadata": {
    "collapsed": false
   },
   "outputs": [
    {
     "name": "stdout",
     "output_type": "stream",
     "text": [
      "Mean Squared Error = 3.48632960958\n"
     ]
    }
   ],
   "source": [
    "# Evaluate the model on test data\n",
    "valuesAndPreds =  testData.map(lambda p: (p.label, model_Ridge.predict(p.features)))\n",
    "MSE = valuesAndPreds.map(lambda (v, p): (v - p)**2).reduce(lambda x, y: x + y) / valuesAndPreds.count()\n",
    "print(\"Mean Squared Error = \" + str(MSE))"
   ]
  },
  {
   "cell_type": "code",
   "execution_count": 47,
   "metadata": {
    "collapsed": false
   },
   "outputs": [],
   "source": [
    "# Build the model LassoWithSGD and L1 regularization\n",
    "model_Lasso = LinearRegressionWithSGD.train(trainingData, iterations=500, step=0.0001)"
   ]
  },
  {
   "cell_type": "code",
   "execution_count": 48,
   "metadata": {
    "collapsed": false
   },
   "outputs": [
    {
     "name": "stdout",
     "output_type": "stream",
     "text": [
      "Mean Squared Error = 3.48631947737\n"
     ]
    }
   ],
   "source": [
    "# Evaluate the model on test data\n",
    "valuesAndPreds =  testData.map(lambda p: (p.label, model_Lasso.predict(p.features)))\n",
    "MSE = valuesAndPreds.map(lambda (v, p): (v - p)**2).reduce(lambda x, y: x + y) / valuesAndPreds.count()\n",
    "print(\"Mean Squared Error = \" + str(MSE))                               "
   ]
  }
 ],
 "metadata": {
  "kernelspec": {
   "display_name": "Python 2",
   "language": "python",
   "name": "python2"
  },
  "language_info": {
   "codemirror_mode": {
    "name": "ipython",
    "version": 2
   },
   "file_extension": ".py",
   "mimetype": "text/x-python",
   "name": "python",
   "nbconvert_exporter": "python",
   "pygments_lexer": "ipython2",
   "version": "2.7.9"
  }
 },
 "nbformat": 4,
 "nbformat_minor": 0
}
